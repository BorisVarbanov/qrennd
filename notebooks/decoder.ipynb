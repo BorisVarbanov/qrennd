{
 "cells": [
  {
   "cell_type": "code",
   "execution_count": 1,
   "id": "bbc8d7b2",
   "metadata": {},
   "outputs": [
    {
     "name": "stderr",
     "output_type": "stream",
     "text": [
      "2023-01-05 13:47:53.688153: I tensorflow/core/platform/cpu_feature_guard.cc:193] This TensorFlow binary is optimized with oneAPI Deep Neural Network Library (oneDNN) to use the following CPU instructions in performance-critical operations:  AVX2 FMA\n",
      "To enable them in other operations, rebuild TensorFlow with the appropriate compiler flags.\n"
     ]
    }
   ],
   "source": [
    "import pathlib\n",
    "from datetime import datetime\n",
    "from typing import Optional\n",
    "\n",
    "import numpy as np\n",
    "import xarray as xr\n",
    "import keras\n",
    "from matplotlib import pyplot as plt\n",
    "\n",
    "from qrennd import get_model, Config, Layout\n",
    "from qrennd.layouts.plotter import plot"
   ]
  },
  {
   "cell_type": "code",
   "execution_count": 2,
   "id": "f591c026",
   "metadata": {
    "lines_to_next_cell": 1
   },
   "outputs": [],
   "source": [
    "%load_ext tensorboard"
   ]
  },
  {
   "cell_type": "code",
   "execution_count": 3,
   "id": "3b88d608",
   "metadata": {
    "lines_to_next_cell": 1
   },
   "outputs": [],
   "source": [
    "def get_syndromes(anc_meas: xr.DataArray) -> xr.DataArray:\n",
    "    syndromes = anc_meas ^ anc_meas.shift(qec_round=1, fill_value=0)\n",
    "    syndromes.name = \"syndromes\"\n",
    "    return syndromes\n",
    "\n",
    "\n",
    "def get_defects(\n",
    "    syndromes: xr.DataArray, frame: Optional[xr.DataArray] = None\n",
    ") -> xr.DataArray:\n",
    "    shifted_syn = syndromes.shift(qec_round=1, fill_value=0)\n",
    "\n",
    "    if frame is not None:\n",
    "        shifted_syn[dict(qec_round=0)] = frame\n",
    "\n",
    "    defects = syndromes ^ shifted_syn\n",
    "    defects.name = \"defects\"\n",
    "    return defects\n",
    "\n",
    "\n",
    "def get_final_defects(\n",
    "    syndromes: xr.DataArray,\n",
    "    proj_syndrome: xr.DataArray,\n",
    ") -> xr.DataArray:\n",
    "    last_syndrome = syndromes.isel(qec_round=-1)\n",
    "    proj_anc = proj_syndrome.anc_qubit\n",
    "\n",
    "    final_defects = last_syndrome.sel(anc_qubit=proj_anc) ^ proj_syndrome\n",
    "    final_defects.name = \"final_defects\"\n",
    "    return final_defects\n",
    "\n",
    "\n",
    "def preprocess_data(dataset, proj_mat):\n",
    "    syndromes = get_syndromes(dataset.anc_meas)\n",
    "    defects = get_defects(syndromes)\n",
    "\n",
    "    proj_syndrome = (dataset.data_meas @ proj_mat) % 2\n",
    "    final_defects = get_final_defects(syndromes, proj_syndrome)\n",
    "\n",
    "    init_states = dataset.init_state.sum(dim=\"data_qubit\") % 2\n",
    "    log_states = dataset.data_meas.sum(dim=\"data_qubit\") % 2\n",
    "\n",
    "    labels = log_states.astype(int) ^ init_states\n",
    "\n",
    "    #inputs = dict(defects=defects.data, final_defects=final_defects.data)\n",
    "    inputs = dict(defects=syndromes.data, final_defects=dataset.data_meas.data)\n",
    "    #inputs = dict(defects=dataset.anc_meas.data, final_defects=dataset.data_meas.data)\n",
    "    outputs = labels.data\n",
    "\n",
    "    return inputs, outputs"
   ]
  },
  {
   "cell_type": "markdown",
   "id": "e1f64fb7",
   "metadata": {},
   "source": [
    "# Load the datasets"
   ]
  },
  {
   "cell_type": "code",
   "execution_count": 4,
   "id": "1d1ceac9",
   "metadata": {
    "lines_to_next_cell": 2
   },
   "outputs": [],
   "source": [
    "NOTEBOOK_DIR = pathlib.Path.cwd() # define the path where the notebook is placed.\n",
    "\n",
    "LAYOUT_DIR = NOTEBOOK_DIR / \"layouts\"\n",
    "if not LAYOUT_DIR.exists():\n",
    "    raise ValueError(\"Layout directory does not exist.\")\n",
    "\n",
    "CONFIG_DIR = NOTEBOOK_DIR / \"configs\"\n",
    "if not CONFIG_DIR.exists():\n",
    "    raise ValueError(\"Config directory does not exist.\")\n",
    "\n",
    "# The train/dev/test data directories are located in the local data directory\n",
    "DATA_DIR = NOTEBOOK_DIR / \"data\"\n",
    "if not DATA_DIR.exists():\n",
    "    raise ValueError(\"Train data directory does not exist.\")\n",
    "\n",
    "cur_datetime = datetime.now()\n",
    "datetime_str = cur_datetime.strftime(\"%Y%m%d-%H%M%S\")\n",
    "\n",
    "LOG_DIR = NOTEBOOK_DIR / f\"logs/{datetime_str}\"\n",
    "LOG_DIR.mkdir(parents=True, exist_ok=True)\n",
    "\n",
    "CHECKPOINT_DIR = NOTEBOOK_DIR / \"tmp/checkpoint\"\n",
    "CHECKPOINT_DIR.mkdir(parents=True, exist_ok=True)"
   ]
  },
  {
   "cell_type": "code",
   "execution_count": 5,
   "id": "426eaf96",
   "metadata": {},
   "outputs": [
    {
     "data": {
      "image/png": "[encoded data removed]",
      "text/plain": [
       "<Figure size 400x400 with 1 Axes>"
      ]
     },
     "metadata": {},
     "output_type": "display_data"
    }
   ],
   "source": [
    "LAYOUT_FILE = \"d3_layout.yaml\"\n",
    "layout = Layout.from_yaml(LAYOUT_DIR / LAYOUT_FILE)\n",
    "\n",
    "fig, ax = plt.subplots(figsize=(4, 4))\n",
    "plot(layout, label_qubits=True, draw_patches=True, axis=ax)\n",
    "plt.tight_layout()\n",
    "plt.show()"
   ]
  },
  {
   "cell_type": "code",
   "execution_count": 37,
   "id": "6df7a80d",
   "metadata": {},
   "outputs": [],
   "source": [
    "data_q = layout.get_qubits(role=\"data\")\n",
    "anc_q = layout.get_qubits(role=\"anc\", stab_type=\"z_type\")\n",
    "subgraph = layout.graph.subgraph(nodes = data_q + anc_q)"
   ]
  },
  {
   "cell_type": "code",
   "execution_count": 38,
   "id": "dbb8608d",
   "metadata": {},
   "outputs": [
    {
     "data": {
      "text/plain": [
       "['Z1', 'Z2', 'Z3', 'Z4']"
      ]
     },
     "execution_count": 38,
     "metadata": {},
     "output_type": "execute_result"
    }
   ],
   "source": [
    "layout.get_neighbors()"
   ]
  },
  {
   "cell_type": "code",
   "execution_count": 53,
   "id": "6947c12e",
   "metadata": {},
   "outputs": [
    {
     "data": {
      "text/plain": [
       "0"
      ]
     },
     "execution_count": 53,
     "metadata": {},
     "output_type": "execute_result"
    }
   ],
   "source": [
    "qubits = layout.get_qubits()\n",
    "\n",
    "qubits.index(\"D1\")"
   ]
  },
  {
   "cell_type": "code",
   "execution_count": 42,
   "id": "78f5b027",
   "metadata": {},
   "outputs": [
    {
     "data": {
      "text/plain": [
       "[('Z1', 'D1', None),\n",
       " ('Z1', 'D4', None),\n",
       " ('Z2', 'D2', None),\n",
       " ('Z2', 'D3', None),\n",
       " ('Z2', 'D5', None),\n",
       " ('Z2', 'D6', None),\n",
       " ('Z3', 'D4', None),\n",
       " ('Z3', 'D5', None),\n",
       " ('Z3', 'D7', None),\n",
       " ('Z3', 'D8', None),\n",
       " ('Z4', 'D6', None),\n",
       " ('Z4', 'D9', None)]"
      ]
     },
     "execution_count": 42,
     "metadata": {},
     "output_type": "execute_result"
    }
   ],
   "source": [
    "list(layout.graph.edges(anc_q, data=\"north_east\"))"
   ]
  },
  {
   "cell_type": "code",
   "execution_count": 25,
   "id": "a89e9439",
   "metadata": {},
   "outputs": [
    {
     "data": {
      "text/plain": [
       "OutEdgeDataView([('D1', 'Z1', None), ('D1', 'X2', None), ('D2', 'X1', None), ('D2', 'X2', None), ('D2', 'Z2', None), ('D3', 'X1', None), ('D3', 'Z2', None), ('D4', 'Z1', None), ('D4', 'X2', None), ('D4', 'Z3', None), ('D5', 'X2', None), ('D5', 'Z2', None), ('D5', 'Z3', None), ('D5', 'X3', None), ('D6', 'Z2', None), ('D6', 'X3', None), ('D6', 'Z4', None), ('D7', 'Z3', None), ('D7', 'X4', None), ('D8', 'Z3', None), ('D8', 'X3', None), ('D8', 'X4', None), ('D9', 'X3', None), ('D9', 'Z4', None), ('X1', 'D2', None), ('X1', 'D3', None), ('X2', 'D1', None), ('X2', 'D2', None), ('X2', 'D4', None), ('X2', 'D5', None), ('X3', 'D5', None), ('X3', 'D6', None), ('X3', 'D8', None), ('X3', 'D9', None), ('X4', 'D7', None), ('X4', 'D8', None), ('Z1', 'D1', None), ('Z1', 'D4', None), ('Z2', 'D2', None), ('Z2', 'D3', None), ('Z2', 'D5', None), ('Z2', 'D6', None), ('Z3', 'D4', None), ('Z3', 'D5', None), ('Z3', 'D7', None), ('Z3', 'D8', None), ('Z4', 'D6', None), ('Z4', 'D9', None)])"
      ]
     },
     "execution_count": 25,
     "metadata": {},
     "output_type": "execute_result"
    }
   ],
   "source": [
    "layout.graph.edges(data=\"north_west\")"
   ]
  },
  {
   "cell_type": "code",
   "execution_count": 6,
   "id": "8fac4a88",
   "metadata": {},
   "outputs": [],
   "source": [
    "CONFIG_FILE = \"base_config.yaml\"\n",
    "config = Config.from_yaml(CONFIG_DIR / CONFIG_FILE)"
   ]
  },
  {
   "cell_type": "code",
   "execution_count": 7,
   "id": "f158ca5c",
   "metadata": {},
   "outputs": [
    {
     "name": "stderr",
     "output_type": "stream",
     "text": [
      "/Users/boris/Projects/decoders/qrennd/qrennd/layouts/layout.py:145: FutureWarning: adjacency_matrix will return a scipy.sparse array instead of a matrix in Networkx 3.0.\n",
      "  adj_matrix = nx.adjacency_matrix(self.graph)\n"
     ]
    }
   ],
   "source": [
    "proj_mat = layout.projection_matrix(stab_type=\"z_type\")\n",
    "\n",
    "train_dataset = xr.load_dataset(\n",
    "    DATA_DIR / \"train/d3_surf_code_seq_round_state_0_shots_1000000_rounds_40.nc\"\n",
    ")\n",
    "train_input, train_output = preprocess_data(train_dataset, proj_mat)\n",
    "\n",
    "dev_dataset = xr.load_dataset(\n",
    "    DATA_DIR / \"dev/d3_surf_code_seq_round_state_0_shots_20000_rounds_40.nc\"\n",
    ")\n",
    "dev_input, dev_output = preprocess_data(dev_dataset, proj_mat)"
   ]
  },
  {
   "cell_type": "code",
   "execution_count": 8,
   "id": "f5cc26f5",
   "metadata": {},
   "outputs": [
    {
     "name": "stderr",
     "output_type": "stream",
     "text": [
      "2023-01-05 13:48:03.572169: I tensorflow/core/platform/cpu_feature_guard.cc:193] This TensorFlow binary is optimized with oneAPI Deep Neural Network Library (oneDNN) to use the following CPU instructions in performance-critical operations:  AVX2 FMA\n",
      "To enable them in other operations, rebuild TensorFlow with the appropriate compiler flags.\n"
     ]
    }
   ],
   "source": [
    "main_metrics = [\n",
    "    keras.metrics.BinaryAccuracy(name=\"acc\"),\n",
    "    keras.metrics.AUC(num_thresholds=100, name=\"AUC\", curve=\"ROC\")\n",
    "]\n",
    "\n",
    "aux_metrics = [\n",
    "    keras.metrics.BinaryAccuracy(name=\"acc\"),\n",
    "]"
   ]
  },
  {
   "cell_type": "code",
   "execution_count": 9,
   "id": "952fde44",
   "metadata": {
    "lines_to_next_cell": 2
   },
   "outputs": [],
   "source": [
    "num_rounds = train_dataset.qec_round.size\n",
    "num_anc = train_dataset.anc_qubit.size\n",
    "\n",
    "model = get_model(\n",
    "    defects_shape=(None, num_anc),\n",
    "    final_defects_shape=(9, ),\n",
    "    config=config,\n",
    "    metrics=dict(\n",
    "        main_output = main_metrics,\n",
    "        aux_output = aux_metrics\n",
    "    )\n",
    ")"
   ]
  },
  {
   "cell_type": "code",
   "execution_count": 10,
   "id": "7d0b2c88",
   "metadata": {
    "lines_to_next_cell": 2
   },
   "outputs": [
    {
     "name": "stdout",
     "output_type": "stream",
     "text": [
      "Model: \"decoder_model\"\n",
      "__________________________________________________________________________________________________\n",
      " Layer (type)                   Output Shape         Param #     Connected to                     \n",
      "==================================================================================================\n",
      " defects (InputLayer)           [(None, None, 8)]    0           []                               \n",
      "                                                                                                  \n",
      " LSTM_1 (LSTM)                  (None, None, 32)     5248        ['defects[0][0]']                \n",
      "                                                                                                  \n",
      " dropout_LSTM_1 (Dropout)       (None, None, 32)     0           ['LSTM_1[0][0]']                 \n",
      "                                                                                                  \n",
      " LSTM_2 (LSTM)                  (None, 32)           8320        ['dropout_LSTM_1[0][0]']         \n",
      "                                                                                                  \n",
      " dropout_LSTM_2 (Dropout)       (None, 32)           0           ['LSTM_2[0][0]']                 \n",
      "                                                                                                  \n",
      " relu (Activation)              (None, 32)           0           ['dropout_LSTM_2[0][0]']         \n",
      "                                                                                                  \n",
      " final_defects (InputLayer)     [(None, 9)]          0           []                               \n",
      "                                                                                                  \n",
      " tf.concat (TFOpLambda)         (None, 41)           0           ['relu[0][0]',                   \n",
      "                                                                  'final_defects[0][0]']          \n",
      "                                                                                                  \n",
      " main_dense (Dense)             (None, 32)           1344        ['tf.concat[0][0]']              \n",
      "                                                                                                  \n",
      " aux_dense (Dense)              (None, 32)           1056        ['relu[0][0]']                   \n",
      "                                                                                                  \n",
      " dropout_main_dense (Dropout)   (None, 32)           0           ['main_dense[0][0]']             \n",
      "                                                                                                  \n",
      " dropout_aux_dense (Dropout)    (None, 32)           0           ['aux_dense[0][0]']              \n",
      "                                                                                                  \n",
      " main_output (Dense)            (None, 1)            33          ['dropout_main_dense[0][0]']     \n",
      "                                                                                                  \n",
      " aux_output (Dense)             (None, 1)            33          ['dropout_aux_dense[0][0]']      \n",
      "                                                                                                  \n",
      "==================================================================================================\n",
      "Total params: 16,034\n",
      "Trainable params: 16,034\n",
      "Non-trainable params: 0\n",
      "__________________________________________________________________________________________________\n"
     ]
    }
   ],
   "source": [
    "model.summary()"
   ]
  },
  {
   "cell_type": "markdown",
   "id": "69176ffb",
   "metadata": {},
   "source": [
    "# Training"
   ]
  },
  {
   "cell_type": "code",
   "execution_count": 11,
   "id": "73eefe56",
   "metadata": {},
   "outputs": [],
   "source": [
    "#  %tensorboard --logdir={LOG_DIR}"
   ]
  },
  {
   "cell_type": "code",
   "execution_count": 12,
   "id": "e8588842",
   "metadata": {},
   "outputs": [],
   "source": [
    "callbacks = [\n",
    "    keras.callbacks.ModelCheckpoint(\n",
    "        filepath=CHECKPOINT_DIR / \"weights.hdf5\",\n",
    "        monitor=\"val_loss\",\n",
    "        mode=\"min\",\n",
    "        save_best_only=True,\n",
    "    ),\n",
    "    keras.callbacks.TensorBoard(log_dir=LOG_DIR, histogram_freq=1),\n",
    "    keras.callbacks.EarlyStopping(\n",
    "        monitor=\"val_loss\", mode=\"min\", min_delta=0, patience=3\n",
    "    ),\n",
    "]\n"
   ]
  },
  {
   "cell_type": "code",
   "execution_count": 13,
   "id": "9a97fa28",
   "metadata": {
    "lines_to_next_cell": 2
   },
   "outputs": [
    {
     "name": "stdout",
     "output_type": "stream",
     "text": [
      "Epoch 1/5\n",
      "  416/15625 [..............................] - ETA: 4:07 - loss: 1.0081 - main_output_loss: 0.6726 - aux_output_loss: 0.6700 - main_output_acc: 0.5541 - main_output_AUC: 0.5832 - aux_output_acc: 0.5529"
     ]
    },
    {
     "ename": "KeyboardInterrupt",
     "evalue": "",
     "output_type": "error",
     "traceback": [
      "\u001b[0;31m---------------------------------------------------------------------------\u001b[0m",
      "\u001b[0;31mKeyboardInterrupt\u001b[0m                         Traceback (most recent call last)",
      "Cell \u001b[0;32mIn[13], line 1\u001b[0m\n\u001b[0;32m----> 1\u001b[0m history \u001b[39m=\u001b[39m model\u001b[39m.\u001b[39;49mfit(\n\u001b[1;32m      2\u001b[0m     x\u001b[39m=\u001b[39;49mtrain_input,\n\u001b[1;32m      3\u001b[0m     y\u001b[39m=\u001b[39;49mtrain_output,\n\u001b[1;32m      4\u001b[0m     validation_data\u001b[39m=\u001b[39;49m[dev_input, dev_output],\n\u001b[1;32m      5\u001b[0m     batch_size\u001b[39m=\u001b[39;49m\u001b[39m64\u001b[39;49m,\n\u001b[1;32m      6\u001b[0m     epochs\u001b[39m=\u001b[39;49m\u001b[39m5\u001b[39;49m,\n\u001b[1;32m      7\u001b[0m     callbacks\u001b[39m=\u001b[39;49mcallbacks\n\u001b[1;32m      8\u001b[0m )\n",
      "File \u001b[0;32m~/Projects/decoders/qrennd/.venv/lib/python3.10/site-packages/keras/utils/traceback_utils.py:65\u001b[0m, in \u001b[0;36mfilter_traceback.<locals>.error_handler\u001b[0;34m(*args, **kwargs)\u001b[0m\n\u001b[1;32m     63\u001b[0m filtered_tb \u001b[39m=\u001b[39m \u001b[39mNone\u001b[39;00m\n\u001b[1;32m     64\u001b[0m \u001b[39mtry\u001b[39;00m:\n\u001b[0;32m---> 65\u001b[0m     \u001b[39mreturn\u001b[39;00m fn(\u001b[39m*\u001b[39;49margs, \u001b[39m*\u001b[39;49m\u001b[39m*\u001b[39;49mkwargs)\n\u001b[1;32m     66\u001b[0m \u001b[39mexcept\u001b[39;00m \u001b[39mException\u001b[39;00m \u001b[39mas\u001b[39;00m e:\n\u001b[1;32m     67\u001b[0m     filtered_tb \u001b[39m=\u001b[39m _process_traceback_frames(e\u001b[39m.\u001b[39m__traceback__)\n",
      "File \u001b[0;32m~/Projects/decoders/qrennd/.venv/lib/python3.10/site-packages/keras/engine/training.py:1650\u001b[0m, in \u001b[0;36mModel.fit\u001b[0;34m(self, x, y, batch_size, epochs, verbose, callbacks, validation_split, validation_data, shuffle, class_weight, sample_weight, initial_epoch, steps_per_epoch, validation_steps, validation_batch_size, validation_freq, max_queue_size, workers, use_multiprocessing)\u001b[0m\n\u001b[1;32m   1642\u001b[0m \u001b[39mwith\u001b[39;00m tf\u001b[39m.\u001b[39mprofiler\u001b[39m.\u001b[39mexperimental\u001b[39m.\u001b[39mTrace(\n\u001b[1;32m   1643\u001b[0m     \u001b[39m\"\u001b[39m\u001b[39mtrain\u001b[39m\u001b[39m\"\u001b[39m,\n\u001b[1;32m   1644\u001b[0m     epoch_num\u001b[39m=\u001b[39mepoch,\n\u001b[0;32m   (...)\u001b[0m\n\u001b[1;32m   1647\u001b[0m     _r\u001b[39m=\u001b[39m\u001b[39m1\u001b[39m,\n\u001b[1;32m   1648\u001b[0m ):\n\u001b[1;32m   1649\u001b[0m     callbacks\u001b[39m.\u001b[39mon_train_batch_begin(step)\n\u001b[0;32m-> 1650\u001b[0m     tmp_logs \u001b[39m=\u001b[39m \u001b[39mself\u001b[39;49m\u001b[39m.\u001b[39;49mtrain_function(iterator)\n\u001b[1;32m   1651\u001b[0m     \u001b[39mif\u001b[39;00m data_handler\u001b[39m.\u001b[39mshould_sync:\n\u001b[1;32m   1652\u001b[0m         context\u001b[39m.\u001b[39masync_wait()\n",
      "File \u001b[0;32m~/Projects/decoders/qrennd/.venv/lib/python3.10/site-packages/tensorflow/python/util/traceback_utils.py:150\u001b[0m, in \u001b[0;36mfilter_traceback.<locals>.error_handler\u001b[0;34m(*args, **kwargs)\u001b[0m\n\u001b[1;32m    148\u001b[0m filtered_tb \u001b[39m=\u001b[39m \u001b[39mNone\u001b[39;00m\n\u001b[1;32m    149\u001b[0m \u001b[39mtry\u001b[39;00m:\n\u001b[0;32m--> 150\u001b[0m   \u001b[39mreturn\u001b[39;00m fn(\u001b[39m*\u001b[39;49margs, \u001b[39m*\u001b[39;49m\u001b[39m*\u001b[39;49mkwargs)\n\u001b[1;32m    151\u001b[0m \u001b[39mexcept\u001b[39;00m \u001b[39mException\u001b[39;00m \u001b[39mas\u001b[39;00m e:\n\u001b[1;32m    152\u001b[0m   filtered_tb \u001b[39m=\u001b[39m _process_traceback_frames(e\u001b[39m.\u001b[39m__traceback__)\n",
      "File \u001b[0;32m~/Projects/decoders/qrennd/.venv/lib/python3.10/site-packages/tensorflow/python/eager/polymorphic_function/polymorphic_function.py:880\u001b[0m, in \u001b[0;36mFunction.__call__\u001b[0;34m(self, *args, **kwds)\u001b[0m\n\u001b[1;32m    877\u001b[0m compiler \u001b[39m=\u001b[39m \u001b[39m\"\u001b[39m\u001b[39mxla\u001b[39m\u001b[39m\"\u001b[39m \u001b[39mif\u001b[39;00m \u001b[39mself\u001b[39m\u001b[39m.\u001b[39m_jit_compile \u001b[39melse\u001b[39;00m \u001b[39m\"\u001b[39m\u001b[39mnonXla\u001b[39m\u001b[39m\"\u001b[39m\n\u001b[1;32m    879\u001b[0m \u001b[39mwith\u001b[39;00m OptionalXlaContext(\u001b[39mself\u001b[39m\u001b[39m.\u001b[39m_jit_compile):\n\u001b[0;32m--> 880\u001b[0m   result \u001b[39m=\u001b[39m \u001b[39mself\u001b[39;49m\u001b[39m.\u001b[39;49m_call(\u001b[39m*\u001b[39;49margs, \u001b[39m*\u001b[39;49m\u001b[39m*\u001b[39;49mkwds)\n\u001b[1;32m    882\u001b[0m new_tracing_count \u001b[39m=\u001b[39m \u001b[39mself\u001b[39m\u001b[39m.\u001b[39mexperimental_get_tracing_count()\n\u001b[1;32m    883\u001b[0m without_tracing \u001b[39m=\u001b[39m (tracing_count \u001b[39m==\u001b[39m new_tracing_count)\n",
      "File \u001b[0;32m~/Projects/decoders/qrennd/.venv/lib/python3.10/site-packages/tensorflow/python/eager/polymorphic_function/polymorphic_function.py:912\u001b[0m, in \u001b[0;36mFunction._call\u001b[0;34m(self, *args, **kwds)\u001b[0m\n\u001b[1;32m    909\u001b[0m   \u001b[39mself\u001b[39m\u001b[39m.\u001b[39m_lock\u001b[39m.\u001b[39mrelease()\n\u001b[1;32m    910\u001b[0m   \u001b[39m# In this case we have created variables on the first call, so we run the\u001b[39;00m\n\u001b[1;32m    911\u001b[0m   \u001b[39m# defunned version which is guaranteed to never create variables.\u001b[39;00m\n\u001b[0;32m--> 912\u001b[0m   \u001b[39mreturn\u001b[39;00m \u001b[39mself\u001b[39;49m\u001b[39m.\u001b[39;49m_no_variable_creation_fn(\u001b[39m*\u001b[39;49margs, \u001b[39m*\u001b[39;49m\u001b[39m*\u001b[39;49mkwds)  \u001b[39m# pylint: disable=not-callable\u001b[39;00m\n\u001b[1;32m    913\u001b[0m \u001b[39melif\u001b[39;00m \u001b[39mself\u001b[39m\u001b[39m.\u001b[39m_variable_creation_fn \u001b[39mis\u001b[39;00m \u001b[39mnot\u001b[39;00m \u001b[39mNone\u001b[39;00m:\n\u001b[1;32m    914\u001b[0m   \u001b[39m# Release the lock early so that multiple threads can perform the call\u001b[39;00m\n\u001b[1;32m    915\u001b[0m   \u001b[39m# in parallel.\u001b[39;00m\n\u001b[1;32m    916\u001b[0m   \u001b[39mself\u001b[39m\u001b[39m.\u001b[39m_lock\u001b[39m.\u001b[39mrelease()\n",
      "File \u001b[0;32m~/Projects/decoders/qrennd/.venv/lib/python3.10/site-packages/tensorflow/python/eager/polymorphic_function/tracing_compiler.py:134\u001b[0m, in \u001b[0;36mTracingCompiler.__call__\u001b[0;34m(self, *args, **kwargs)\u001b[0m\n\u001b[1;32m    131\u001b[0m \u001b[39mwith\u001b[39;00m \u001b[39mself\u001b[39m\u001b[39m.\u001b[39m_lock:\n\u001b[1;32m    132\u001b[0m   (concrete_function,\n\u001b[1;32m    133\u001b[0m    filtered_flat_args) \u001b[39m=\u001b[39m \u001b[39mself\u001b[39m\u001b[39m.\u001b[39m_maybe_define_function(args, kwargs)\n\u001b[0;32m--> 134\u001b[0m \u001b[39mreturn\u001b[39;00m concrete_function\u001b[39m.\u001b[39;49m_call_flat(\n\u001b[1;32m    135\u001b[0m     filtered_flat_args, captured_inputs\u001b[39m=\u001b[39;49mconcrete_function\u001b[39m.\u001b[39;49mcaptured_inputs)\n",
      "File \u001b[0;32m~/Projects/decoders/qrennd/.venv/lib/python3.10/site-packages/tensorflow/python/eager/polymorphic_function/monomorphic_function.py:1745\u001b[0m, in \u001b[0;36mConcreteFunction._call_flat\u001b[0;34m(self, args, captured_inputs, cancellation_manager)\u001b[0m\n\u001b[1;32m   1741\u001b[0m possible_gradient_type \u001b[39m=\u001b[39m gradients_util\u001b[39m.\u001b[39mPossibleTapeGradientTypes(args)\n\u001b[1;32m   1742\u001b[0m \u001b[39mif\u001b[39;00m (possible_gradient_type \u001b[39m==\u001b[39m gradients_util\u001b[39m.\u001b[39mPOSSIBLE_GRADIENT_TYPES_NONE\n\u001b[1;32m   1743\u001b[0m     \u001b[39mand\u001b[39;00m executing_eagerly):\n\u001b[1;32m   1744\u001b[0m   \u001b[39m# No tape is watching; skip to running the function.\u001b[39;00m\n\u001b[0;32m-> 1745\u001b[0m   \u001b[39mreturn\u001b[39;00m \u001b[39mself\u001b[39m\u001b[39m.\u001b[39m_build_call_outputs(\u001b[39mself\u001b[39;49m\u001b[39m.\u001b[39;49m_inference_function\u001b[39m.\u001b[39;49mcall(\n\u001b[1;32m   1746\u001b[0m       ctx, args, cancellation_manager\u001b[39m=\u001b[39;49mcancellation_manager))\n\u001b[1;32m   1747\u001b[0m forward_backward \u001b[39m=\u001b[39m \u001b[39mself\u001b[39m\u001b[39m.\u001b[39m_select_forward_and_backward_functions(\n\u001b[1;32m   1748\u001b[0m     args,\n\u001b[1;32m   1749\u001b[0m     possible_gradient_type,\n\u001b[1;32m   1750\u001b[0m     executing_eagerly)\n\u001b[1;32m   1751\u001b[0m forward_function, args_with_tangents \u001b[39m=\u001b[39m forward_backward\u001b[39m.\u001b[39mforward()\n",
      "File \u001b[0;32m~/Projects/decoders/qrennd/.venv/lib/python3.10/site-packages/tensorflow/python/eager/polymorphic_function/monomorphic_function.py:378\u001b[0m, in \u001b[0;36m_EagerDefinedFunction.call\u001b[0;34m(self, ctx, args, cancellation_manager)\u001b[0m\n\u001b[1;32m    376\u001b[0m \u001b[39mwith\u001b[39;00m _InterpolateFunctionError(\u001b[39mself\u001b[39m):\n\u001b[1;32m    377\u001b[0m   \u001b[39mif\u001b[39;00m cancellation_manager \u001b[39mis\u001b[39;00m \u001b[39mNone\u001b[39;00m:\n\u001b[0;32m--> 378\u001b[0m     outputs \u001b[39m=\u001b[39m execute\u001b[39m.\u001b[39;49mexecute(\n\u001b[1;32m    379\u001b[0m         \u001b[39mstr\u001b[39;49m(\u001b[39mself\u001b[39;49m\u001b[39m.\u001b[39;49msignature\u001b[39m.\u001b[39;49mname),\n\u001b[1;32m    380\u001b[0m         num_outputs\u001b[39m=\u001b[39;49m\u001b[39mself\u001b[39;49m\u001b[39m.\u001b[39;49m_num_outputs,\n\u001b[1;32m    381\u001b[0m         inputs\u001b[39m=\u001b[39;49margs,\n\u001b[1;32m    382\u001b[0m         attrs\u001b[39m=\u001b[39;49mattrs,\n\u001b[1;32m    383\u001b[0m         ctx\u001b[39m=\u001b[39;49mctx)\n\u001b[1;32m    384\u001b[0m   \u001b[39melse\u001b[39;00m:\n\u001b[1;32m    385\u001b[0m     outputs \u001b[39m=\u001b[39m execute\u001b[39m.\u001b[39mexecute_with_cancellation(\n\u001b[1;32m    386\u001b[0m         \u001b[39mstr\u001b[39m(\u001b[39mself\u001b[39m\u001b[39m.\u001b[39msignature\u001b[39m.\u001b[39mname),\n\u001b[1;32m    387\u001b[0m         num_outputs\u001b[39m=\u001b[39m\u001b[39mself\u001b[39m\u001b[39m.\u001b[39m_num_outputs,\n\u001b[0;32m   (...)\u001b[0m\n\u001b[1;32m    390\u001b[0m         ctx\u001b[39m=\u001b[39mctx,\n\u001b[1;32m    391\u001b[0m         cancellation_manager\u001b[39m=\u001b[39mcancellation_manager)\n",
      "File \u001b[0;32m~/Projects/decoders/qrennd/.venv/lib/python3.10/site-packages/tensorflow/python/eager/execute.py:52\u001b[0m, in \u001b[0;36mquick_execute\u001b[0;34m(op_name, num_outputs, inputs, attrs, ctx, name)\u001b[0m\n\u001b[1;32m     50\u001b[0m \u001b[39mtry\u001b[39;00m:\n\u001b[1;32m     51\u001b[0m   ctx\u001b[39m.\u001b[39mensure_initialized()\n\u001b[0;32m---> 52\u001b[0m   tensors \u001b[39m=\u001b[39m pywrap_tfe\u001b[39m.\u001b[39;49mTFE_Py_Execute(ctx\u001b[39m.\u001b[39;49m_handle, device_name, op_name,\n\u001b[1;32m     53\u001b[0m                                       inputs, attrs, num_outputs)\n\u001b[1;32m     54\u001b[0m \u001b[39mexcept\u001b[39;00m core\u001b[39m.\u001b[39m_NotOkStatusException \u001b[39mas\u001b[39;00m e:\n\u001b[1;32m     55\u001b[0m   \u001b[39mif\u001b[39;00m name \u001b[39mis\u001b[39;00m \u001b[39mnot\u001b[39;00m \u001b[39mNone\u001b[39;00m:\n",
      "\u001b[0;31mKeyboardInterrupt\u001b[0m: "
     ]
    }
   ],
   "source": [
    "history = model.fit(\n",
    "    x=train_input,\n",
    "    y=train_output,\n",
    "    validation_data=[dev_input, dev_output],\n",
    "    batch_size=64,\n",
    "    epochs=5,\n",
    "    callbacks=callbacks\n",
    ")"
   ]
  },
  {
   "cell_type": "code",
   "execution_count": null,
   "id": "321c6eee",
   "metadata": {
    "lines_to_next_cell": 2
   },
   "outputs": [],
   "source": [
    "test_dataset = xr.load_dataset(\n",
    "    DATA_DIR / \"test/d3_surf_code_seq_round_state_0_shots_20000_rounds_20.nc\"\n",
    ")\n",
    "test_input, test_output = preprocess_data(test_dataset, proj_mat)"
   ]
  },
  {
   "cell_type": "code",
   "execution_count": null,
   "id": "2d56b919",
   "metadata": {
    "lines_to_next_cell": 2
   },
   "outputs": [],
   "source": [
    "eval_output = model.evaluate(x=test_input, y=test_output, batch_size=64)"
   ]
  },
  {
   "cell_type": "code",
   "execution_count": null,
   "id": "c25b67a8",
   "metadata": {
    "lines_to_next_cell": 2
   },
   "outputs": [],
   "source": [
    "test_dataset = xr.load_dataset(\n",
    "    DATA_DIR / \"test/d3_surf_code_seq_round_state_0_shots_20000_rounds_20_v2.nc\"\n",
    ")\n",
    "test_input, test_output = preprocess_data(test_dataset, proj_mat)"
   ]
  },
  {
   "cell_type": "code",
   "execution_count": null,
   "id": "e1ba9988",
   "metadata": {},
   "outputs": [],
   "source": [
    "eval_output = model.evaluate(x=test_input, y=test_output, batch_size=64)"
   ]
  },
  {
   "cell_type": "code",
   "execution_count": null,
   "id": "e582bc1e",
   "metadata": {},
   "outputs": [],
   "source": []
  }
 ],
 "metadata": {
  "jupytext": {
   "cell_metadata_filter": "-all",
   "main_language": "python",
   "notebook_metadata_filter": "-all"
  },
  "kernelspec": {
   "display_name": ".venv",
   "language": "python",
   "name": "python3"
  },
  "language_info": {
   "codemirror_mode": {
    "name": "ipython",
    "version": 3
   },
   "file_extension": ".py",
   "mimetype": "text/x-python",
   "name": "python",
   "nbconvert_exporter": "python",
   "pygments_lexer": "ipython3",
   "version": "3.10.1 (main, Jan 21 2022, 17:32:03) [Clang 12.0.5 (clang-1205.0.22.11)]"
  },
  "vscode": {
   "interpreter": {
    "hash": "667c0da509f68382cb5db87ad6084e99a8aa67a23a8521bc8a03c5d7e0fe7632"
   }
  }
 },
 "nbformat": 4,
 "nbformat_minor": 5
}
