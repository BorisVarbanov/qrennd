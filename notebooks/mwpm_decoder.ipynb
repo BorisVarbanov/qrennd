{
 "cells": [
  {
   "cell_type": "markdown",
   "id": "7997f10a",
   "metadata": {},
   "source": [
    "# MWPM decoder (with `pymatching`)"
   ]
  },
  {
   "cell_type": "code",
   "execution_count": 1,
   "id": "bbc8d7b2",
   "metadata": {},
   "outputs": [],
   "source": [
    "import pathlib\n",
    "from datetime import datetime\n",
    "from typing import Optional\n",
    "\n",
    "import numpy as np\n",
    "import xarray as xr\n",
    "from matplotlib import pyplot as plt\n",
    "\n",
    "import pymatching\n",
    "import stim\n",
    "import sinter\n",
    "\n",
    "from qrennd import get_model, Config, Layout\n",
    "from qrennd.layouts.plotter import plot"
   ]
  },
  {
   "cell_type": "code",
   "execution_count": 2,
   "id": "3b88d608",
   "metadata": {
    "lines_to_next_cell": 1
   },
   "outputs": [],
   "source": [
    "def get_syndromes(anc_meas: xr.DataArray) -> xr.DataArray:\n",
    "    syndromes = anc_meas ^ anc_meas.shift(qec_round=1, fill_value=0)\n",
    "    syndromes.name = \"syndromes\"\n",
    "    return syndromes\n",
    "\n",
    "\n",
    "def get_defects(\n",
    "    syndromes: xr.DataArray, frame: Optional[xr.DataArray] = None\n",
    ") -> xr.DataArray:\n",
    "    shifted_syn = syndromes.shift(qec_round=1, fill_value=0)\n",
    "\n",
    "    if frame is not None:\n",
    "        shifted_syn[dict(qec_round=0)] = frame\n",
    "\n",
    "    defects = syndromes ^ shifted_syn\n",
    "    defects.name = \"defects\"\n",
    "    return defects\n",
    "\n",
    "\n",
    "def get_final_defects(\n",
    "    syndromes: xr.DataArray,\n",
    "    proj_syndrome: xr.DataArray,\n",
    ") -> xr.DataArray:\n",
    "    last_syndrome = syndromes.isel(qec_round=-1)\n",
    "    proj_anc = proj_syndrome.anc_qubit\n",
    "\n",
    "    final_defects = last_syndrome.sel(anc_qubit=proj_anc) ^ proj_syndrome\n",
    "    final_defects.name = \"final_defects\"\n",
    "    return final_defects\n",
    "\n",
    "\n",
    "def preprocess_data(dataset, proj_mat, first_anc_detector=[\"Z1\", \"Z2\", \"Z3\", \"Z4\"]):\n",
    "    anc_meas = dataset.anc_meas.stack(state_shot = (\"log_state\", \"shot\"))\n",
    "    anc_meas = anc_meas.transpose(\"state_shot\", \"qec_round\", \"anc_qubit\")\n",
    "    \n",
    "    data_meas = dataset.data_meas.stack(state_shot = (\"log_state\", \"shot\"))\n",
    "    data_meas = data_meas.transpose(\"state_shot\", \"data_qubit\")\n",
    "\n",
    "    syndromes = get_syndromes(anc_meas)\n",
    "    defects = get_defects(syndromes)\n",
    "    \n",
    "    first_defects = defects.sel(qec_round=1, anc_qubit=first_anc_detector).values\n",
    "    \n",
    "    defects = defects.sel(qec_round=defects.qec_round[1:])\n",
    "    defects = defects.stack(n=[\"qec_round\", \"anc_qubit\"]).values\n",
    "    \n",
    "    proj_syndrome = (data_meas @ proj_mat) % 2\n",
    "    final_defects = get_final_defects(syndromes, proj_syndrome)\n",
    "\n",
    "    defects = np.append(first_defects, defects, axis=1)\n",
    "    defects = np.append(defects, final_defects, axis=1)\n",
    "\n",
    "    log_meas = dataset.data_meas.sum(dim=\"data_qubit\") % 2\n",
    "    log_inits = dataset.init_state.sum(dim=\"data_qubit\") % 2\n",
    "    log_errors = log_meas ^ log_inits\n",
    "    log_errors = log_errors.stack(state_shot=(\"log_state\", \"shot\"))\n",
    "\n",
    "    return defects, log_errors.data"
   ]
  },
  {
   "cell_type": "markdown",
   "id": "e1f64fb7",
   "metadata": {},
   "source": [
    "# Load the dataset (for testing)"
   ]
  },
  {
   "cell_type": "code",
   "execution_count": 3,
   "id": "1d1ceac9",
   "metadata": {
    "lines_to_next_cell": 2
   },
   "outputs": [],
   "source": [
    "NOTEBOOK_DIR = pathlib.Path.cwd() # define the path where the notebook is placed.\n",
    "\n",
    "LAYOUT_DIR = NOTEBOOK_DIR / \"layouts\"\n",
    "if not LAYOUT_DIR.exists():\n",
    "    raise ValueError(\"Layout directory does not exist.\")\n",
    "\n",
    "CONFIG_DIR = NOTEBOOK_DIR / \"configs\"\n",
    "if not CONFIG_DIR.exists():\n",
    "    raise ValueError(\"Config directory does not exist.\")\n",
    "\n",
    "# The train/dev/test data and stim_circuit directories are located in the local data directory\n",
    "DATA_DIR = NOTEBOOK_DIR / \"data\"\n",
    "if not DATA_DIR.exists():\n",
    "    raise ValueError(\"Data directory does not exist.\")\n",
    "\n",
    "cur_datetime = datetime.now()\n",
    "datetime_str = cur_datetime.strftime(\"%Y%m%d-%H%M%S\")\n",
    "\n",
    "LOG_DIR = NOTEBOOK_DIR / f\"logs/{datetime_str}\"\n",
    "LOG_DIR.mkdir(parents=True, exist_ok=True)\n",
    "\n",
    "CHECKPOINT_DIR = NOTEBOOK_DIR / \"tmp/checkpoint\"\n",
    "CHECKPOINT_DIR.mkdir(parents=True, exist_ok=True)"
   ]
  },
  {
   "cell_type": "code",
   "execution_count": 4,
   "id": "426eaf96",
   "metadata": {},
   "outputs": [
    {
     "data": {
      "image/png": "[encoded data removed]",
      "text/plain": [
       "<Figure size 400x400 with 1 Axes>"
      ]
     },
     "metadata": {},
     "output_type": "display_data"
    }
   ],
   "source": [
    "LAYOUT_FILE = \"d3_rotated_layout.yaml\"\n",
    "layout = Layout.from_yaml(LAYOUT_DIR / LAYOUT_FILE)\n",
    "\n",
    "fig, ax = plt.subplots(figsize=(4, 4))\n",
    "plot(layout, label_qubits=True, draw_patches=True, axis=ax)\n",
    "plt.tight_layout()\n",
    "plt.show()"
   ]
  },
  {
   "cell_type": "code",
   "execution_count": 5,
   "id": "8fac4a88",
   "metadata": {},
   "outputs": [],
   "source": [
    "CONFIG_FILE = \"base_config.yaml\"\n",
    "config = Config.from_yaml(CONFIG_DIR / CONFIG_FILE)"
   ]
  },
  {
   "cell_type": "code",
   "execution_count": 6,
   "id": "3f1407bb",
   "metadata": {},
   "outputs": [
    {
     "name": "stderr",
     "output_type": "stream",
     "text": [
      "C:\\Users\\Lurdes\\Arxius\\Marc\\TU_DELFT\\courses\\master_thesis_project\\repositories\\qrennd\\qrennd\\layouts\\layout.py:145: FutureWarning: adjacency_matrix will return a scipy.sparse array instead of a matrix in Networkx 3.0.\n",
      "  adj_matrix = nx.adjacency_matrix(self.graph)\n"
     ]
    }
   ],
   "source": [
    "proj_mat = layout.projection_matrix(stab_type=\"z_type\")"
   ]
  },
  {
   "cell_type": "code",
   "execution_count": 7,
   "id": "69a586a9",
   "metadata": {},
   "outputs": [],
   "source": [
    "test_dataset = xr.load_dataset(\n",
    "    DATA_DIR / \"test/d3_surf_circ_noise_shots_10000_rounds_60.nc\"\n",
    ")\n",
    "defects, log_errors = preprocess_data(test_dataset, proj_mat)"
   ]
  },
  {
   "cell_type": "code",
   "execution_count": 8,
   "id": "4384b651",
   "metadata": {},
   "outputs": [
    {
     "data": {
      "text/plain": [
       "((20000, 480), (20000,))"
      ]
     },
     "execution_count": 8,
     "metadata": {},
     "output_type": "execute_result"
    }
   ],
   "source": [
    "defects.shape, log_errors.shape"
   ]
  },
  {
   "cell_type": "code",
   "execution_count": 9,
   "id": "edd8b8e1",
   "metadata": {},
   "outputs": [
    {
     "data": {
      "text/plain": [
       "array([0, 0, 0, 0, 0, 1, 0, 0, 0, 0, 0, 0, 0, 0, 0, 0, 0, 0, 0, 0, 0, 0,\n",
       "       0, 0, 0, 0, 0, 1, 0, 0, 0, 0, 0, 0, 0, 0, 0, 0, 0, 1, 0, 0, 0, 0,\n",
       "       0, 0, 0, 1, 0, 0, 0, 0, 0, 0, 0, 0, 0, 0, 0, 0, 0, 0, 0, 0, 0, 0,\n",
       "       0, 0, 0, 0, 0, 0, 0, 0, 0, 0, 0, 0, 0, 0, 0, 0, 0, 0, 0, 0, 0, 0,\n",
       "       0, 0, 0, 0, 0, 0, 0, 0, 0, 0, 0, 0, 0, 0, 0, 0, 0, 0, 0, 0, 0, 0,\n",
       "       0, 0, 0, 1, 0, 0, 0, 1, 0, 0, 0, 0, 0, 0, 0, 0, 0, 0, 0, 0, 0, 0,\n",
       "       0, 0, 0, 0, 0, 0, 0, 0, 0, 0, 0, 0, 0, 0, 0, 0, 0, 0, 0, 0, 0, 0,\n",
       "       0, 1, 0, 0, 0, 0, 0, 0, 0, 0, 0, 0, 0, 0, 0, 0, 0, 0, 0, 0, 0, 0,\n",
       "       0, 0, 0, 0, 0, 0, 0, 0, 0, 0, 0, 0, 0, 0, 0, 0, 0, 0, 0, 0, 0, 0,\n",
       "       0, 0, 0, 0, 0, 0, 0, 0, 0, 0, 0, 0, 0, 0, 0, 0, 0, 0, 0, 0, 0, 0,\n",
       "       0, 1, 0, 0, 0, 0, 0, 0, 0, 1, 0, 0, 0, 0, 0, 0, 0, 0, 0, 0, 0, 0,\n",
       "       0, 0, 0, 0, 0, 0, 0, 0, 0, 0, 0, 0, 0, 0, 0, 0, 0, 0, 0, 0, 0, 0,\n",
       "       0, 0, 0, 0, 0, 0, 0, 0, 0, 0, 0, 0, 0, 0, 0, 0, 0, 0, 0, 0, 0, 0,\n",
       "       0, 0, 0, 0, 0, 0, 0, 0, 0, 0, 0, 0, 0, 0, 0, 0, 0, 0, 0, 0, 0, 0,\n",
       "       0, 0, 0, 0, 0, 0, 0, 0, 0, 0, 0, 0, 0, 0, 1, 1, 0, 0, 0, 0, 0, 0,\n",
       "       1, 1, 0, 0, 0, 0, 0, 0, 0, 0, 0, 0, 0, 0, 0, 0, 0, 0, 0, 0, 0, 0,\n",
       "       0, 0, 0, 0, 0, 0, 0, 0, 0, 0, 0, 0, 0, 0, 0, 0, 0, 0, 0, 0, 0, 0,\n",
       "       0, 0, 0, 0, 0, 0, 0, 1, 0, 0, 0, 0, 0, 0, 0, 1, 0, 0, 0, 0, 0, 0,\n",
       "       0, 0, 0, 0, 0, 0, 0, 0, 0, 0, 0, 0, 0, 0, 0, 0, 0, 0, 0, 0, 0, 0,\n",
       "       0, 0, 0, 0, 0, 0, 0, 0, 0, 0, 0, 0, 0, 0, 0, 0, 0, 1, 0, 0, 0, 0,\n",
       "       0, 0, 0, 0, 0, 0, 0, 0, 0, 0, 0, 0, 0, 0, 0, 0, 0, 0, 0, 0, 0, 0,\n",
       "       0, 0, 0, 0, 0, 0, 0, 0, 0, 0, 0, 0, 0, 0, 0, 0, 0, 0])"
      ]
     },
     "execution_count": 9,
     "metadata": {},
     "output_type": "execute_result"
    }
   ],
   "source": [
    "defects[0]"
   ]
  },
  {
   "cell_type": "markdown",
   "id": "c2084bc4",
   "metadata": {},
   "source": [
    "# Prepare decoder"
   ]
  },
  {
   "cell_type": "code",
   "execution_count": 10,
   "id": "d06a58c2",
   "metadata": {},
   "outputs": [],
   "source": [
    "DETECTOR_ERROR_MODEL = DATA_DIR / \"stim_error_model/detector_error_model\"\n",
    "if not DETECTOR_ERROR_MODEL.exists():\n",
    "    raise ValueError(f\"stim model does not exist in file: {DETECTOR_ERROR_MODEL}\")\n",
    "\n",
    "detector_error_model = stim.DetectorErrorModel.from_file(DETECTOR_ERROR_MODEL)\n",
    "\n",
    "MWPM = pymatching.Matching.from_detector_error_model(detector_error_model)"
   ]
  },
  {
   "cell_type": "markdown",
   "id": "a709dcaa",
   "metadata": {},
   "source": [
    "# Evaluation of the decoder"
   ]
  },
  {
   "cell_type": "code",
   "execution_count": 11,
   "id": "56436e09",
   "metadata": {},
   "outputs": [],
   "source": [
    "prediction = np.array([MWPM.decode(i) for i in defects]).flatten()"
   ]
  },
  {
   "cell_type": "code",
   "execution_count": 12,
   "id": "e1bd1389",
   "metadata": {},
   "outputs": [
    {
     "data": {
      "text/plain": [
       "0.8675"
      ]
     },
     "execution_count": 12,
     "metadata": {},
     "output_type": "execute_result"
    }
   ],
   "source": [
    "np.sum(log_errors == prediction) / len(prediction)"
   ]
  }
 ],
 "metadata": {
  "jupytext": {
   "cell_metadata_filter": "-all",
   "main_language": "python",
   "notebook_metadata_filter": "-all"
  },
  "kernelspec": {
   "display_name": "Python 3 (ipykernel)",
   "language": "python",
   "name": "python3"
  },
  "language_info": {
   "codemirror_mode": {
    "name": "ipython",
    "version": 3
   },
   "file_extension": ".py",
   "mimetype": "text/x-python",
   "name": "python",
   "nbconvert_exporter": "python",
   "pygments_lexer": "ipython3",
   "version": "3.10.8"
  },
  "vscode": {
   "interpreter": {
    "hash": "667c0da509f68382cb5db87ad6084e99a8aa67a23a8521bc8a03c5d7e0fe7632"
   }
  }
 },
 "nbformat": 4,
 "nbformat_minor": 5
}
